{
 "cells": [
  {
   "cell_type": "markdown",
   "metadata": {
    "colab_type": "text",
    "id": "view-in-github"
   },
   "source": [
    "<a href=\"https://colab.research.google.com/github/RaneemQaddoura/EvoCluster/blob/master/EvoCluster.ipynb\" target=\"_parent\"><img src=\"https://colab.research.google.com/assets/colab-badge.svg\" alt=\"Open In Colab\"/></a>"
   ]
  },
  {
   "cell_type": "markdown",
   "metadata": {
    "colab_type": "text",
    "id": "IiNG95DSmRmt"
   },
   "source": [
    "<h1>EvoCluster</h1>\n",
    "An Open-Source Nature-Inspired Optimization Clustering Framework in Python"
   ]
  },
  {
   "cell_type": "markdown",
   "metadata": {
    "colab_type": "text",
    "id": "hKzyadcdm6yw"
   },
   "source": [
    "EvoCluster is an open source and cross-platform framework implemented in Python which includes the most well-known and recent nature-inspired metaheuristic  optimizers  that  are  customized  to  perform  partitional  clustering tasks.  \n",
    "\n",
    "The  goal  of  this  framework  is  to  provide  a  user-friendly  and  customizable implementation of the metaheuristic based clustering algorithms which can be utilized by experienced and non-experienced users for different applications.\n",
    "\n",
    "The framework can also be used by researchers who can benefit from the implementation of the metaheuristic optimizers for their research studies. \n",
    "\n",
    "EvoCluster can be extended by designing other optimizers, including more objective func-tions, adding other evaluation measures, and using more data sets. \n",
    "\n",
    "The current implementation  of  the  framework  includes  ten  metaheristic  optimizers,  thirtydatasets,  five  objective  functions,  and  twelve  evaluation  measures.  "
   ]
  },
  {
   "cell_type": "markdown",
   "metadata": {
    "colab_type": "text",
    "id": "2zQnPqDUujil"
   },
   "source": [
    "The full list of implemented optimizers is available here https://github.com/7ossam81/EvoloPy/wiki/List-of-optimizers"
   ]
  },
  {
   "cell_type": "markdown",
   "metadata": {
    "colab_type": "text",
    "id": "ehxW3t0puwpm"
   },
   "source": [
    "<h2>Features</h2>"
   ]
  },
  {
   "cell_type": "markdown",
   "metadata": {
    "colab_type": "text",
    "id": "TufeO-Rturq8"
   },
   "source": [
    "*   Ten nature-inspired metaheuristic optimizers are implemented.\n",
    "*   The implimentation uses the fast array manipulation using [NumPy] (http://www.numpy.org/).\n",
    "*   Matrix support using [SciPy's] (https://www.scipy.org/) package.\n",
    "*   More optimizers are comming soon"
   ]
  },
  {
   "cell_type": "markdown",
   "metadata": {
    "colab_type": "text",
    "id": "oG2TRdx-vf8m"
   },
   "source": [
    "<h2>Installation</h2>"
   ]
  },
  {
   "cell_type": "markdown",
   "metadata": {
    "colab_type": "text",
    "id": "_XpMUOZNvi9H"
   },
   "source": [
    "Python 3.xx is required."
   ]
  },
  {
   "cell_type": "markdown",
   "metadata": {
    "colab_type": "text",
    "id": "f_PVAZC6v7px"
   },
   "source": [
    "<h2>GitHub</h2>"
   ]
  },
  {
   "cell_type": "markdown",
   "metadata": {
    "colab_type": "text",
    "id": "aW_66ovkv2ev"
   },
   "source": [
    "Clone the Git repository from GitHub:\n",
    "git clone https://github.com/RaneemQaddoura/EvoCluster.git"
   ]
  },
  {
   "cell_type": "code",
   "execution_count": null,
   "metadata": {
    "colab": {},
    "colab_type": "code",
    "id": "QgrmE2wEyC_X"
   },
   "outputs": [],
   "source": [
    "!git clone https://github.com/RaneemQaddoura/EvoCluster.git"
   ]
  },
  {
   "cell_type": "code",
   "execution_count": 46,
   "metadata": {
    "colab": {},
    "colab_type": "code",
    "id": "_yVUbtjcyiZR"
   },
   "outputs": [
    {
     "ename": "FileNotFoundError",
     "evalue": "[Errno 2] No such file or directory: 'EvoCluster/'",
     "output_type": "error",
     "traceback": [
      "\u001b[0;31m---------------------------------------------------------------------------\u001b[0m",
      "\u001b[0;31mFileNotFoundError\u001b[0m                         Traceback (most recent call last)",
      "\u001b[0;32m/tmp/ipykernel_14160/3742064395.py\u001b[0m in \u001b[0;36m<module>\u001b[0;34m\u001b[0m\n\u001b[1;32m      1\u001b[0m \u001b[0;31m# Change working directory\u001b[0m\u001b[0;34m\u001b[0m\u001b[0;34m\u001b[0m\u001b[0m\n\u001b[1;32m      2\u001b[0m \u001b[0;32mimport\u001b[0m \u001b[0mos\u001b[0m\u001b[0;34m\u001b[0m\u001b[0;34m\u001b[0m\u001b[0m\n\u001b[0;32m----> 3\u001b[0;31m \u001b[0mprint\u001b[0m\u001b[0;34m(\u001b[0m\u001b[0mos\u001b[0m\u001b[0;34m.\u001b[0m\u001b[0mchdir\u001b[0m\u001b[0;34m(\u001b[0m\u001b[0;34m\"EvoCluster/\"\u001b[0m\u001b[0;34m)\u001b[0m\u001b[0;34m)\u001b[0m\u001b[0;34m\u001b[0m\u001b[0;34m\u001b[0m\u001b[0m\n\u001b[0m",
      "\u001b[0;31mFileNotFoundError\u001b[0m: [Errno 2] No such file or directory: 'EvoCluster/'"
     ]
    }
   ],
   "source": [
    "# Change working directory\n",
    "import os\n",
    "print(os.chdir(\"EvoCluster/\"))\n"
   ]
  },
  {
   "cell_type": "markdown",
   "metadata": {
    "colab_type": "text",
    "id": "S4j-t-nXxaM7"
   },
   "source": [
    "<h2>Install Packages</h2>"
   ]
  },
  {
   "cell_type": "code",
   "execution_count": null,
   "metadata": {
    "colab": {},
    "colab_type": "code",
    "id": "-mG8vIuIW1n8"
   },
   "outputs": [],
   "source": [
    "#Install NumPy, SciPy, sklearn, pandas, and matplotlib\n",
    "!pip install -r requirements.txt"
   ]
  },
  {
   "cell_type": "markdown",
   "metadata": {
    "colab_type": "text",
    "id": "fEon-wGyZuq4"
   },
   "source": [
    "<h2>User Preferences</h2>"
   ]
  },
  {
   "cell_type": "code",
   "execution_count": 37,
   "metadata": {
    "colab": {},
    "colab_type": "code",
    "id": "cFF9ioDfyppV"
   },
   "outputs": [],
   "source": [
    "# Select optimizers\n",
    "# \"SSA\",\"PSO\",\"GA\",\"BAT\",\"FFA\",\"GWO\",\"WOA\",\"MVO\",\"MFO\",\"CS\"\n",
    "optimizer=[\"SSA\",\"PSO\"]"
   ]
  },
  {
   "cell_type": "code",
   "execution_count": 38,
   "metadata": {
    "colab": {},
    "colab_type": "code",
    "id": "SuWo96bB6ohe"
   },
   "outputs": [],
   "source": [
    "# Select objective function\n",
    "# \"SSE\",\"TWCV\",\"SC\",\"DB\",\"DI\"\n",
    "objectivefunc=[\"SSE\"] "
   ]
  },
  {
   "cell_type": "code",
   "execution_count": 39,
   "metadata": {
    "colab": {},
    "colab_type": "code",
    "id": "DQpzhArU65Px"
   },
   "outputs": [],
   "source": [
    "# Select data sets\n",
    "#\"aggregation\",\"aniso\",\"appendicitis\",\"balance\",\"banknote\",\"blobs\",\"Blood\",\"circles\",\"diagnosis_II\",\"ecoli\",\"flame\",\"glass\",\"heart\",\"ionosphere\",\"iris\",\"iris2D\",\"jain\",\"liver\",\"moons\",\"mouse\",\"pathbased\",\"seeds\",\"smiley\",\"sonar\",\"varied\",\"vary-density\",\"vertebral2\",\"vertebral3\",\"wdbc\",\"wine\"\n",
    "dataset_List = [\"iris\",\"aggregation\"]"
   ]
  },
  {
   "cell_type": "code",
   "execution_count": 40,
   "metadata": {
    "colab": {},
    "colab_type": "code",
    "id": "CQyWvdS3Ipgt"
   },
   "outputs": [],
   "source": [
    "# Select number of repetitions for each experiment. \n",
    "# To obtain meaningful statistical results, usually 30 independent runs are executed for each algorithm.\n",
    "NumOfRuns=3"
   ]
  },
  {
   "cell_type": "code",
   "execution_count": 41,
   "metadata": {
    "colab": {},
    "colab_type": "code",
    "id": "2djrIRh26sKB"
   },
   "outputs": [],
   "source": [
    "# Select general parameters for all optimizers (population size, number of iterations) ....\n",
    "params = {'PopulationSize' : 30, 'Iterations' : 50}"
   ]
  },
  {
   "cell_type": "code",
   "execution_count": 42,
   "metadata": {
    "colab": {},
    "colab_type": "code",
    "id": "aJb075Np62GM"
   },
   "outputs": [],
   "source": [
    "#Choose whether to Export the results in different formats\n",
    "export_flags = {'Export_avg':True, 'Export_details':True, 'Export_details_labels':True, \n",
    "'Export_convergence':True, 'Export_boxplot':True}"
   ]
  },
  {
   "cell_type": "markdown",
   "metadata": {
    "colab_type": "text",
    "id": "KAgXf1QkZD7X"
   },
   "source": [
    "<h2>Run Framework</h2>"
   ]
  },
  {
   "cell_type": "code",
   "execution_count": 43,
   "metadata": {
    "colab": {},
    "colab_type": "code",
    "id": "APzDcxiwI8A2"
   },
   "outputs": [
    {
     "ename": "PermissionError",
     "evalue": "[Errno 13] Permission denied: '2021-10-28-14-19-32'",
     "output_type": "error",
     "traceback": [
      "\u001b[0;31m---------------------------------------------------------------------------\u001b[0m",
      "\u001b[0;31mPermissionError\u001b[0m                           Traceback (most recent call last)",
      "\u001b[0;32m/tmp/ipykernel_14160/3000605373.py\u001b[0m in \u001b[0;36m<module>\u001b[0;34m\u001b[0m\n\u001b[1;32m      1\u001b[0m \u001b[0;31m# Run EvoCluster\u001b[0m\u001b[0;34m\u001b[0m\u001b[0;34m\u001b[0m\u001b[0m\n\u001b[1;32m      2\u001b[0m \u001b[0;32mfrom\u001b[0m \u001b[0moptimizer\u001b[0m \u001b[0;32mimport\u001b[0m \u001b[0mrun\u001b[0m\u001b[0;34m\u001b[0m\u001b[0;34m\u001b[0m\u001b[0m\n\u001b[0;32m----> 3\u001b[0;31m \u001b[0mrun\u001b[0m\u001b[0;34m(\u001b[0m\u001b[0moptimizer\u001b[0m\u001b[0;34m,\u001b[0m \u001b[0mobjectivefunc\u001b[0m\u001b[0;34m,\u001b[0m \u001b[0mdataset_List\u001b[0m\u001b[0;34m,\u001b[0m \u001b[0mNumOfRuns\u001b[0m\u001b[0;34m,\u001b[0m \u001b[0mparams\u001b[0m\u001b[0;34m,\u001b[0m \u001b[0mexport_flags\u001b[0m\u001b[0;34m)\u001b[0m\u001b[0;34m\u001b[0m\u001b[0;34m\u001b[0m\u001b[0m\n\u001b[0m",
      "\u001b[0;32m~/Downloads/RS/Source Parallel-EvoCluster/Code/EvoCluster-master/optimizer.py\u001b[0m in \u001b[0;36mrun\u001b[0;34m(optimizer, objectivefunc, dataset_List, NumOfRuns, params, export_flags, auto_cluster, n_clusters, labels_exist, metric)\u001b[0m\n\u001b[1;32m    140\u001b[0m \u001b[0;34m\u001b[0m\u001b[0m\n\u001b[1;32m    141\u001b[0m         \u001b[0mresults_directory\u001b[0m \u001b[0;34m=\u001b[0m \u001b[0mtime\u001b[0m\u001b[0;34m.\u001b[0m\u001b[0mstrftime\u001b[0m\u001b[0;34m(\u001b[0m\u001b[0;34m\"%Y-%m-%d-%H-%M-%S\"\u001b[0m\u001b[0;34m)\u001b[0m \u001b[0;34m+\u001b[0m \u001b[0;34m'/'\u001b[0m\u001b[0;34m\u001b[0m\u001b[0;34m\u001b[0m\u001b[0m\n\u001b[0;32m--> 142\u001b[0;31m         \u001b[0mPath\u001b[0m\u001b[0;34m(\u001b[0m\u001b[0mresults_directory\u001b[0m\u001b[0;34m)\u001b[0m\u001b[0;34m.\u001b[0m\u001b[0mmkdir\u001b[0m\u001b[0;34m(\u001b[0m\u001b[0mparents\u001b[0m\u001b[0;34m=\u001b[0m\u001b[0;32mTrue\u001b[0m\u001b[0;34m,\u001b[0m \u001b[0mexist_ok\u001b[0m\u001b[0;34m=\u001b[0m\u001b[0;32mTrue\u001b[0m\u001b[0;34m)\u001b[0m\u001b[0;34m\u001b[0m\u001b[0;34m\u001b[0m\u001b[0m\n\u001b[0m\u001b[1;32m    143\u001b[0m \u001b[0;34m\u001b[0m\u001b[0m\n\u001b[1;32m    144\u001b[0m         \u001b[0mdataset_len\u001b[0m \u001b[0;34m=\u001b[0m \u001b[0mlen\u001b[0m\u001b[0;34m(\u001b[0m\u001b[0mdataset_List\u001b[0m\u001b[0;34m)\u001b[0m\u001b[0;34m\u001b[0m\u001b[0;34m\u001b[0m\u001b[0m\n",
      "\u001b[0;32m/usr/lib/python3.9/pathlib.py\u001b[0m in \u001b[0;36mmkdir\u001b[0;34m(self, mode, parents, exist_ok)\u001b[0m\n\u001b[1;32m   1321\u001b[0m         \"\"\"\n\u001b[1;32m   1322\u001b[0m         \u001b[0;32mtry\u001b[0m\u001b[0;34m:\u001b[0m\u001b[0;34m\u001b[0m\u001b[0;34m\u001b[0m\u001b[0m\n\u001b[0;32m-> 1323\u001b[0;31m             \u001b[0mself\u001b[0m\u001b[0;34m.\u001b[0m\u001b[0m_accessor\u001b[0m\u001b[0;34m.\u001b[0m\u001b[0mmkdir\u001b[0m\u001b[0;34m(\u001b[0m\u001b[0mself\u001b[0m\u001b[0;34m,\u001b[0m \u001b[0mmode\u001b[0m\u001b[0;34m)\u001b[0m\u001b[0;34m\u001b[0m\u001b[0;34m\u001b[0m\u001b[0m\n\u001b[0m\u001b[1;32m   1324\u001b[0m         \u001b[0;32mexcept\u001b[0m \u001b[0mFileNotFoundError\u001b[0m\u001b[0;34m:\u001b[0m\u001b[0;34m\u001b[0m\u001b[0;34m\u001b[0m\u001b[0m\n\u001b[1;32m   1325\u001b[0m             \u001b[0;32mif\u001b[0m \u001b[0;32mnot\u001b[0m \u001b[0mparents\u001b[0m \u001b[0;32mor\u001b[0m \u001b[0mself\u001b[0m\u001b[0;34m.\u001b[0m\u001b[0mparent\u001b[0m \u001b[0;34m==\u001b[0m \u001b[0mself\u001b[0m\u001b[0;34m:\u001b[0m\u001b[0;34m\u001b[0m\u001b[0;34m\u001b[0m\u001b[0m\n",
      "\u001b[0;31mPermissionError\u001b[0m: [Errno 13] Permission denied: '2021-10-28-14-19-32'"
     ]
    }
   ],
   "source": [
    "# Run EvoCluster\n",
    "from optimizer import run\n",
    "run(optimizer, objectivefunc, dataset_List, NumOfRuns, params, export_flags)"
   ]
  },
  {
   "cell_type": "markdown",
   "metadata": {
    "colab_type": "text",
    "id": "1mB9AVhQuwbH"
   },
   "source": [
    "<h2>Results Files and Plots</h2>"
   ]
  },
  {
   "cell_type": "code",
   "execution_count": 8,
   "metadata": {
    "colab": {},
    "colab_type": "code",
    "id": "642Oh7QUpRhL"
   },
   "outputs": [],
   "source": [
    "#import some useful packages to view the results' files in colab\n",
    "import pandas as pd\n",
    "from IPython.display import Image\n",
    "import os\n",
    "import datetime\n",
    "import ipywidgets as widgets"
   ]
  },
  {
   "cell_type": "code",
   "execution_count": 9,
   "metadata": {
    "colab": {
     "base_uri": "https://localhost:8080/",
     "height": 49,
     "referenced_widgets": [
      "72766899b95b448989904b6b77be5e06",
      "075a2480310a4a96990fcda7d0ffd922",
      "aa1078a902d1415688fa5054f3389e65"
     ]
    },
    "colab_type": "code",
    "id": "UOLHaWwBRf7D",
    "outputId": "f9e2136f-13bf-475c-d424-81ce8a66cfdd"
   },
   "outputs": [
    {
     "data": {
      "application/vnd.jupyter.widget-view+json": {
       "model_id": "cb974d27995845cfb2522c4c6c3ac789",
       "version_major": 2,
       "version_minor": 0
      },
      "text/plain": [
       "Dropdown(description='Select folder:', options=('2021-05-28-21-17-27', '2021-05-28-22-34-06', '2021-05-29-01-4…"
      ]
     },
     "metadata": {},
     "output_type": "display_data"
    }
   ],
   "source": [
    "#Select the experiments folder\n",
    "foldernames = [filename for filename in os.listdir() if filename.startswith(str(datetime.datetime.now().year))]\n",
    "drop_folder = widgets.Dropdown(options=foldernames, description='Select folder:')\n",
    "drop_folder"
   ]
  },
  {
   "cell_type": "code",
   "execution_count": 15,
   "metadata": {
    "colab": {},
    "colab_type": "code",
    "id": "xm8UuPRA6uIb"
   },
   "outputs": [],
   "source": [
    "#Get the selected folder\n",
    "foldername = drop_folder.value"
   ]
  },
  {
   "cell_type": "markdown",
   "metadata": {
    "colab_type": "text",
    "id": "qjNFP9NqvNV3"
   },
   "source": [
    "<h4>Average Results File</h4>"
   ]
  },
  {
   "cell_type": "code",
   "execution_count": 16,
   "metadata": {
    "colab": {
     "base_uri": "https://localhost:8080/",
     "height": 193
    },
    "colab_type": "code",
    "id": "U_PNBYEYp2cn",
    "outputId": "f180915b-701d-4836-f812-a5b271edd902"
   },
   "outputs": [
    {
     "data": {
      "text/html": [
       "<div>\n",
       "<style scoped>\n",
       "    .dataframe tbody tr th:only-of-type {\n",
       "        vertical-align: middle;\n",
       "    }\n",
       "\n",
       "    .dataframe tbody tr th {\n",
       "        vertical-align: top;\n",
       "    }\n",
       "\n",
       "    .dataframe thead th {\n",
       "        text-align: right;\n",
       "    }\n",
       "</style>\n",
       "<table border=\"1\" class=\"dataframe\">\n",
       "  <thead>\n",
       "    <tr style=\"text-align: right;\">\n",
       "      <th></th>\n",
       "      <th>Dataset</th>\n",
       "      <th>Optimizer</th>\n",
       "      <th>objfname</th>\n",
       "      <th>k</th>\n",
       "      <th>ExecutionTime</th>\n",
       "      <th>SSE</th>\n",
       "      <th>Purity</th>\n",
       "      <th>Entropy</th>\n",
       "      <th>HS</th>\n",
       "      <th>CS</th>\n",
       "      <th>...</th>\n",
       "      <th>Iter41</th>\n",
       "      <th>Iter42</th>\n",
       "      <th>Iter43</th>\n",
       "      <th>Iter44</th>\n",
       "      <th>Iter45</th>\n",
       "      <th>Iter46</th>\n",
       "      <th>Iter47</th>\n",
       "      <th>Iter48</th>\n",
       "      <th>Iter49</th>\n",
       "      <th>Iter50</th>\n",
       "    </tr>\n",
       "  </thead>\n",
       "  <tbody>\n",
       "    <tr>\n",
       "      <th>0</th>\n",
       "      <td>iris</td>\n",
       "      <td>SSA</td>\n",
       "      <td>SSE</td>\n",
       "      <td>3</td>\n",
       "      <td>3.95</td>\n",
       "      <td>4.72</td>\n",
       "      <td>0.78</td>\n",
       "      <td>0.33</td>\n",
       "      <td>0.67</td>\n",
       "      <td>0.78</td>\n",
       "      <td>...</td>\n",
       "      <td>4.72</td>\n",
       "      <td>4.72</td>\n",
       "      <td>4.72</td>\n",
       "      <td>4.72</td>\n",
       "      <td>4.72</td>\n",
       "      <td>4.72</td>\n",
       "      <td>4.72</td>\n",
       "      <td>4.72</td>\n",
       "      <td>4.72</td>\n",
       "      <td>4.72</td>\n",
       "    </tr>\n",
       "    <tr>\n",
       "      <th>1</th>\n",
       "      <td>aggregation</td>\n",
       "      <td>SSA</td>\n",
       "      <td>SSE</td>\n",
       "      <td>7</td>\n",
       "      <td>20.52</td>\n",
       "      <td>12.85</td>\n",
       "      <td>0.85</td>\n",
       "      <td>0.17</td>\n",
       "      <td>0.81</td>\n",
       "      <td>0.73</td>\n",
       "      <td>...</td>\n",
       "      <td>12.85</td>\n",
       "      <td>12.85</td>\n",
       "      <td>12.85</td>\n",
       "      <td>12.85</td>\n",
       "      <td>12.85</td>\n",
       "      <td>12.85</td>\n",
       "      <td>12.85</td>\n",
       "      <td>12.85</td>\n",
       "      <td>12.85</td>\n",
       "      <td>12.85</td>\n",
       "    </tr>\n",
       "    <tr>\n",
       "      <th>2</th>\n",
       "      <td>iris</td>\n",
       "      <td>SSA</td>\n",
       "      <td>TWCV</td>\n",
       "      <td>3</td>\n",
       "      <td>3.70</td>\n",
       "      <td>38.05</td>\n",
       "      <td>0.96</td>\n",
       "      <td>0.14</td>\n",
       "      <td>0.86</td>\n",
       "      <td>0.86</td>\n",
       "      <td>...</td>\n",
       "      <td>2.83</td>\n",
       "      <td>2.83</td>\n",
       "      <td>2.83</td>\n",
       "      <td>2.83</td>\n",
       "      <td>2.83</td>\n",
       "      <td>2.83</td>\n",
       "      <td>2.83</td>\n",
       "      <td>2.83</td>\n",
       "      <td>2.83</td>\n",
       "      <td>2.83</td>\n",
       "    </tr>\n",
       "    <tr>\n",
       "      <th>3</th>\n",
       "      <td>aggregation</td>\n",
       "      <td>SSA</td>\n",
       "      <td>TWCV</td>\n",
       "      <td>7</td>\n",
       "      <td>18.33</td>\n",
       "      <td>25.45</td>\n",
       "      <td>0.91</td>\n",
       "      <td>0.09</td>\n",
       "      <td>0.90</td>\n",
       "      <td>0.81</td>\n",
       "      <td>...</td>\n",
       "      <td>11.13</td>\n",
       "      <td>11.13</td>\n",
       "      <td>11.13</td>\n",
       "      <td>11.13</td>\n",
       "      <td>11.13</td>\n",
       "      <td>11.13</td>\n",
       "      <td>11.13</td>\n",
       "      <td>11.13</td>\n",
       "      <td>11.13</td>\n",
       "      <td>11.13</td>\n",
       "    </tr>\n",
       "  </tbody>\n",
       "</table>\n",
       "<p>4 rows × 70 columns</p>\n",
       "</div>"
      ],
      "text/plain": [
       "       Dataset Optimizer objfname  k  ExecutionTime    SSE  Purity  Entropy  \\\n",
       "0         iris       SSA      SSE  3           3.95   4.72    0.78     0.33   \n",
       "1  aggregation       SSA      SSE  7          20.52  12.85    0.85     0.17   \n",
       "2         iris       SSA     TWCV  3           3.70  38.05    0.96     0.14   \n",
       "3  aggregation       SSA     TWCV  7          18.33  25.45    0.91     0.09   \n",
       "\n",
       "     HS    CS  ...  Iter41  Iter42  Iter43  Iter44  Iter45  Iter46  Iter47  \\\n",
       "0  0.67  0.78  ...    4.72    4.72    4.72    4.72    4.72    4.72    4.72   \n",
       "1  0.81  0.73  ...   12.85   12.85   12.85   12.85   12.85   12.85   12.85   \n",
       "2  0.86  0.86  ...    2.83    2.83    2.83    2.83    2.83    2.83    2.83   \n",
       "3  0.90  0.81  ...   11.13   11.13   11.13   11.13   11.13   11.13   11.13   \n",
       "\n",
       "   Iter48  Iter49  Iter50  \n",
       "0    4.72    4.72    4.72  \n",
       "1   12.85   12.85   12.85  \n",
       "2    2.83    2.83    2.83  \n",
       "3   11.13   11.13   11.13  \n",
       "\n",
       "[4 rows x 70 columns]"
      ]
     },
     "execution_count": 16,
     "metadata": {},
     "output_type": "execute_result"
    }
   ],
   "source": [
    "#Show the average results file\n",
    "filename = foldername +'/experiment.csv' \n",
    "df = pd.read_csv(filename)\n",
    "df.head(4)"
   ]
  },
  {
   "cell_type": "markdown",
   "metadata": {
    "colab_type": "text",
    "id": "sXSfvROovXRc"
   },
   "source": [
    "<h4>Detailed Results File</h4>"
   ]
  },
  {
   "cell_type": "code",
   "execution_count": 17,
   "metadata": {
    "colab": {
     "base_uri": "https://localhost:8080/",
     "height": 441
    },
    "colab_type": "code",
    "id": "RXU4upcgqcX_",
    "outputId": "f983a785-843b-4023-fda5-67cd2f1aa84f"
   },
   "outputs": [
    {
     "data": {
      "text/html": [
       "<div>\n",
       "<style scoped>\n",
       "    .dataframe tbody tr th:only-of-type {\n",
       "        vertical-align: middle;\n",
       "    }\n",
       "\n",
       "    .dataframe tbody tr th {\n",
       "        vertical-align: top;\n",
       "    }\n",
       "\n",
       "    .dataframe thead th {\n",
       "        text-align: right;\n",
       "    }\n",
       "</style>\n",
       "<table border=\"1\" class=\"dataframe\">\n",
       "  <thead>\n",
       "    <tr style=\"text-align: right;\">\n",
       "      <th></th>\n",
       "      <th>Dataset</th>\n",
       "      <th>Optimizer</th>\n",
       "      <th>objfname</th>\n",
       "      <th>k</th>\n",
       "      <th>ExecutionTime</th>\n",
       "      <th>SSE</th>\n",
       "      <th>Purity</th>\n",
       "      <th>Entropy</th>\n",
       "      <th>HS</th>\n",
       "      <th>CS</th>\n",
       "      <th>...</th>\n",
       "      <th>Iter41</th>\n",
       "      <th>Iter42</th>\n",
       "      <th>Iter43</th>\n",
       "      <th>Iter44</th>\n",
       "      <th>Iter45</th>\n",
       "      <th>Iter46</th>\n",
       "      <th>Iter47</th>\n",
       "      <th>Iter48</th>\n",
       "      <th>Iter49</th>\n",
       "      <th>Iter50</th>\n",
       "    </tr>\n",
       "  </thead>\n",
       "  <tbody>\n",
       "    <tr>\n",
       "      <th>0</th>\n",
       "      <td>iris</td>\n",
       "      <td>SSA</td>\n",
       "      <td>SSE</td>\n",
       "      <td>3</td>\n",
       "      <td>3.94</td>\n",
       "      <td>5.99</td>\n",
       "      <td>0.67</td>\n",
       "      <td>0.44</td>\n",
       "      <td>0.56</td>\n",
       "      <td>0.72</td>\n",
       "      <td>...</td>\n",
       "      <td>5.99</td>\n",
       "      <td>5.99</td>\n",
       "      <td>5.99</td>\n",
       "      <td>5.99</td>\n",
       "      <td>5.99</td>\n",
       "      <td>5.99</td>\n",
       "      <td>5.99</td>\n",
       "      <td>5.99</td>\n",
       "      <td>5.99</td>\n",
       "      <td>5.99</td>\n",
       "    </tr>\n",
       "    <tr>\n",
       "      <th>1</th>\n",
       "      <td>iris</td>\n",
       "      <td>SSA</td>\n",
       "      <td>SSE</td>\n",
       "      <td>3</td>\n",
       "      <td>3.95</td>\n",
       "      <td>5.20</td>\n",
       "      <td>0.74</td>\n",
       "      <td>0.39</td>\n",
       "      <td>0.61</td>\n",
       "      <td>0.76</td>\n",
       "      <td>...</td>\n",
       "      <td>5.20</td>\n",
       "      <td>5.20</td>\n",
       "      <td>5.20</td>\n",
       "      <td>5.20</td>\n",
       "      <td>5.20</td>\n",
       "      <td>5.20</td>\n",
       "      <td>5.20</td>\n",
       "      <td>5.20</td>\n",
       "      <td>5.20</td>\n",
       "      <td>5.20</td>\n",
       "    </tr>\n",
       "    <tr>\n",
       "      <th>2</th>\n",
       "      <td>iris</td>\n",
       "      <td>SSA</td>\n",
       "      <td>SSE</td>\n",
       "      <td>3</td>\n",
       "      <td>3.96</td>\n",
       "      <td>2.97</td>\n",
       "      <td>0.94</td>\n",
       "      <td>0.15</td>\n",
       "      <td>0.85</td>\n",
       "      <td>0.86</td>\n",
       "      <td>...</td>\n",
       "      <td>2.97</td>\n",
       "      <td>2.97</td>\n",
       "      <td>2.97</td>\n",
       "      <td>2.97</td>\n",
       "      <td>2.97</td>\n",
       "      <td>2.97</td>\n",
       "      <td>2.97</td>\n",
       "      <td>2.97</td>\n",
       "      <td>2.97</td>\n",
       "      <td>2.97</td>\n",
       "    </tr>\n",
       "    <tr>\n",
       "      <th>3</th>\n",
       "      <td>aggregation</td>\n",
       "      <td>SSA</td>\n",
       "      <td>SSE</td>\n",
       "      <td>7</td>\n",
       "      <td>19.84</td>\n",
       "      <td>13.66</td>\n",
       "      <td>0.84</td>\n",
       "      <td>0.19</td>\n",
       "      <td>0.78</td>\n",
       "      <td>0.71</td>\n",
       "      <td>...</td>\n",
       "      <td>13.67</td>\n",
       "      <td>13.67</td>\n",
       "      <td>13.67</td>\n",
       "      <td>13.66</td>\n",
       "      <td>13.66</td>\n",
       "      <td>13.66</td>\n",
       "      <td>13.66</td>\n",
       "      <td>13.66</td>\n",
       "      <td>13.66</td>\n",
       "      <td>13.66</td>\n",
       "    </tr>\n",
       "    <tr>\n",
       "      <th>4</th>\n",
       "      <td>aggregation</td>\n",
       "      <td>SSA</td>\n",
       "      <td>SSE</td>\n",
       "      <td>7</td>\n",
       "      <td>19.94</td>\n",
       "      <td>11.72</td>\n",
       "      <td>0.88</td>\n",
       "      <td>0.12</td>\n",
       "      <td>0.87</td>\n",
       "      <td>0.77</td>\n",
       "      <td>...</td>\n",
       "      <td>11.72</td>\n",
       "      <td>11.72</td>\n",
       "      <td>11.72</td>\n",
       "      <td>11.72</td>\n",
       "      <td>11.72</td>\n",
       "      <td>11.72</td>\n",
       "      <td>11.72</td>\n",
       "      <td>11.72</td>\n",
       "      <td>11.72</td>\n",
       "      <td>11.72</td>\n",
       "    </tr>\n",
       "    <tr>\n",
       "      <th>5</th>\n",
       "      <td>aggregation</td>\n",
       "      <td>SSA</td>\n",
       "      <td>SSE</td>\n",
       "      <td>7</td>\n",
       "      <td>21.78</td>\n",
       "      <td>13.16</td>\n",
       "      <td>0.83</td>\n",
       "      <td>0.20</td>\n",
       "      <td>0.78</td>\n",
       "      <td>0.71</td>\n",
       "      <td>...</td>\n",
       "      <td>13.16</td>\n",
       "      <td>13.16</td>\n",
       "      <td>13.16</td>\n",
       "      <td>13.16</td>\n",
       "      <td>13.16</td>\n",
       "      <td>13.16</td>\n",
       "      <td>13.16</td>\n",
       "      <td>13.16</td>\n",
       "      <td>13.16</td>\n",
       "      <td>13.16</td>\n",
       "    </tr>\n",
       "    <tr>\n",
       "      <th>6</th>\n",
       "      <td>iris</td>\n",
       "      <td>SSA</td>\n",
       "      <td>TWCV</td>\n",
       "      <td>3</td>\n",
       "      <td>3.73</td>\n",
       "      <td>80.46</td>\n",
       "      <td>0.96</td>\n",
       "      <td>0.14</td>\n",
       "      <td>0.86</td>\n",
       "      <td>0.86</td>\n",
       "      <td>...</td>\n",
       "      <td>2.83</td>\n",
       "      <td>2.83</td>\n",
       "      <td>2.83</td>\n",
       "      <td>2.83</td>\n",
       "      <td>2.83</td>\n",
       "      <td>2.83</td>\n",
       "      <td>2.83</td>\n",
       "      <td>2.83</td>\n",
       "      <td>2.83</td>\n",
       "      <td>2.83</td>\n",
       "    </tr>\n",
       "    <tr>\n",
       "      <th>7</th>\n",
       "      <td>iris</td>\n",
       "      <td>SSA</td>\n",
       "      <td>TWCV</td>\n",
       "      <td>3</td>\n",
       "      <td>3.76</td>\n",
       "      <td>13.17</td>\n",
       "      <td>0.96</td>\n",
       "      <td>0.14</td>\n",
       "      <td>0.86</td>\n",
       "      <td>0.86</td>\n",
       "      <td>...</td>\n",
       "      <td>2.83</td>\n",
       "      <td>2.83</td>\n",
       "      <td>2.83</td>\n",
       "      <td>2.83</td>\n",
       "      <td>2.83</td>\n",
       "      <td>2.83</td>\n",
       "      <td>2.83</td>\n",
       "      <td>2.83</td>\n",
       "      <td>2.83</td>\n",
       "      <td>2.83</td>\n",
       "    </tr>\n",
       "    <tr>\n",
       "      <th>8</th>\n",
       "      <td>iris</td>\n",
       "      <td>SSA</td>\n",
       "      <td>TWCV</td>\n",
       "      <td>3</td>\n",
       "      <td>3.62</td>\n",
       "      <td>20.52</td>\n",
       "      <td>0.96</td>\n",
       "      <td>0.14</td>\n",
       "      <td>0.86</td>\n",
       "      <td>0.86</td>\n",
       "      <td>...</td>\n",
       "      <td>2.83</td>\n",
       "      <td>2.83</td>\n",
       "      <td>2.83</td>\n",
       "      <td>2.83</td>\n",
       "      <td>2.83</td>\n",
       "      <td>2.83</td>\n",
       "      <td>2.83</td>\n",
       "      <td>2.83</td>\n",
       "      <td>2.83</td>\n",
       "      <td>2.83</td>\n",
       "    </tr>\n",
       "    <tr>\n",
       "      <th>9</th>\n",
       "      <td>aggregation</td>\n",
       "      <td>SSA</td>\n",
       "      <td>TWCV</td>\n",
       "      <td>7</td>\n",
       "      <td>18.31</td>\n",
       "      <td>26.51</td>\n",
       "      <td>0.91</td>\n",
       "      <td>0.08</td>\n",
       "      <td>0.90</td>\n",
       "      <td>0.81</td>\n",
       "      <td>...</td>\n",
       "      <td>11.18</td>\n",
       "      <td>11.18</td>\n",
       "      <td>11.18</td>\n",
       "      <td>11.18</td>\n",
       "      <td>11.18</td>\n",
       "      <td>11.18</td>\n",
       "      <td>11.18</td>\n",
       "      <td>11.18</td>\n",
       "      <td>11.18</td>\n",
       "      <td>11.18</td>\n",
       "    </tr>\n",
       "    <tr>\n",
       "      <th>10</th>\n",
       "      <td>aggregation</td>\n",
       "      <td>SSA</td>\n",
       "      <td>TWCV</td>\n",
       "      <td>7</td>\n",
       "      <td>18.48</td>\n",
       "      <td>29.41</td>\n",
       "      <td>0.91</td>\n",
       "      <td>0.09</td>\n",
       "      <td>0.89</td>\n",
       "      <td>0.80</td>\n",
       "      <td>...</td>\n",
       "      <td>11.22</td>\n",
       "      <td>11.22</td>\n",
       "      <td>11.22</td>\n",
       "      <td>11.22</td>\n",
       "      <td>11.22</td>\n",
       "      <td>11.22</td>\n",
       "      <td>11.22</td>\n",
       "      <td>11.22</td>\n",
       "      <td>11.22</td>\n",
       "      <td>11.22</td>\n",
       "    </tr>\n",
       "    <tr>\n",
       "      <th>11</th>\n",
       "      <td>aggregation</td>\n",
       "      <td>SSA</td>\n",
       "      <td>TWCV</td>\n",
       "      <td>7</td>\n",
       "      <td>18.19</td>\n",
       "      <td>20.42</td>\n",
       "      <td>0.91</td>\n",
       "      <td>0.08</td>\n",
       "      <td>0.91</td>\n",
       "      <td>0.83</td>\n",
       "      <td>...</td>\n",
       "      <td>10.99</td>\n",
       "      <td>10.99</td>\n",
       "      <td>10.99</td>\n",
       "      <td>10.99</td>\n",
       "      <td>10.99</td>\n",
       "      <td>10.99</td>\n",
       "      <td>10.99</td>\n",
       "      <td>10.99</td>\n",
       "      <td>10.99</td>\n",
       "      <td>10.99</td>\n",
       "    </tr>\n",
       "  </tbody>\n",
       "</table>\n",
       "<p>12 rows × 70 columns</p>\n",
       "</div>"
      ],
      "text/plain": [
       "        Dataset Optimizer objfname  k  ExecutionTime    SSE  Purity  Entropy  \\\n",
       "0          iris       SSA      SSE  3           3.94   5.99    0.67     0.44   \n",
       "1          iris       SSA      SSE  3           3.95   5.20    0.74     0.39   \n",
       "2          iris       SSA      SSE  3           3.96   2.97    0.94     0.15   \n",
       "3   aggregation       SSA      SSE  7          19.84  13.66    0.84     0.19   \n",
       "4   aggregation       SSA      SSE  7          19.94  11.72    0.88     0.12   \n",
       "5   aggregation       SSA      SSE  7          21.78  13.16    0.83     0.20   \n",
       "6          iris       SSA     TWCV  3           3.73  80.46    0.96     0.14   \n",
       "7          iris       SSA     TWCV  3           3.76  13.17    0.96     0.14   \n",
       "8          iris       SSA     TWCV  3           3.62  20.52    0.96     0.14   \n",
       "9   aggregation       SSA     TWCV  7          18.31  26.51    0.91     0.08   \n",
       "10  aggregation       SSA     TWCV  7          18.48  29.41    0.91     0.09   \n",
       "11  aggregation       SSA     TWCV  7          18.19  20.42    0.91     0.08   \n",
       "\n",
       "      HS    CS  ...  Iter41  Iter42  Iter43  Iter44  Iter45  Iter46  Iter47  \\\n",
       "0   0.56  0.72  ...    5.99    5.99    5.99    5.99    5.99    5.99    5.99   \n",
       "1   0.61  0.76  ...    5.20    5.20    5.20    5.20    5.20    5.20    5.20   \n",
       "2   0.85  0.86  ...    2.97    2.97    2.97    2.97    2.97    2.97    2.97   \n",
       "3   0.78  0.71  ...   13.67   13.67   13.67   13.66   13.66   13.66   13.66   \n",
       "4   0.87  0.77  ...   11.72   11.72   11.72   11.72   11.72   11.72   11.72   \n",
       "5   0.78  0.71  ...   13.16   13.16   13.16   13.16   13.16   13.16   13.16   \n",
       "6   0.86  0.86  ...    2.83    2.83    2.83    2.83    2.83    2.83    2.83   \n",
       "7   0.86  0.86  ...    2.83    2.83    2.83    2.83    2.83    2.83    2.83   \n",
       "8   0.86  0.86  ...    2.83    2.83    2.83    2.83    2.83    2.83    2.83   \n",
       "9   0.90  0.81  ...   11.18   11.18   11.18   11.18   11.18   11.18   11.18   \n",
       "10  0.89  0.80  ...   11.22   11.22   11.22   11.22   11.22   11.22   11.22   \n",
       "11  0.91  0.83  ...   10.99   10.99   10.99   10.99   10.99   10.99   10.99   \n",
       "\n",
       "    Iter48  Iter49  Iter50  \n",
       "0     5.99    5.99    5.99  \n",
       "1     5.20    5.20    5.20  \n",
       "2     2.97    2.97    2.97  \n",
       "3    13.66   13.66   13.66  \n",
       "4    11.72   11.72   11.72  \n",
       "5    13.16   13.16   13.16  \n",
       "6     2.83    2.83    2.83  \n",
       "7     2.83    2.83    2.83  \n",
       "8     2.83    2.83    2.83  \n",
       "9    11.18   11.18   11.18  \n",
       "10   11.22   11.22   11.22  \n",
       "11   10.99   10.99   10.99  \n",
       "\n",
       "[12 rows x 70 columns]"
      ]
     },
     "execution_count": 17,
     "metadata": {},
     "output_type": "execute_result"
    }
   ],
   "source": [
    "#Show the detailed results file\n",
    "filename = foldername +'/experiment_details.csv' \n",
    "df = pd.read_csv(filename)\n",
    "df.head(12)"
   ]
  },
  {
   "cell_type": "markdown",
   "metadata": {
    "colab_type": "text",
    "id": "eM3DYsgGvaxU"
   },
   "source": [
    "<h4>Labels Results File</h4>"
   ]
  },
  {
   "cell_type": "code",
   "execution_count": 18,
   "metadata": {
    "colab": {
     "base_uri": "https://localhost:8080/",
     "height": 441
    },
    "colab_type": "code",
    "id": "we9rE-wPqiHt",
    "outputId": "43b316a6-ff88-4395-c905-a358b0e73e0f"
   },
   "outputs": [
    {
     "data": {
      "text/html": [
       "<div>\n",
       "<style scoped>\n",
       "    .dataframe tbody tr th:only-of-type {\n",
       "        vertical-align: middle;\n",
       "    }\n",
       "\n",
       "    .dataframe tbody tr th {\n",
       "        vertical-align: top;\n",
       "    }\n",
       "\n",
       "    .dataframe thead th {\n",
       "        text-align: right;\n",
       "    }\n",
       "</style>\n",
       "<table border=\"1\" class=\"dataframe\">\n",
       "  <thead>\n",
       "    <tr style=\"text-align: right;\">\n",
       "      <th></th>\n",
       "      <th>Dataset</th>\n",
       "      <th>Optimizer</th>\n",
       "      <th>objfname</th>\n",
       "      <th>label0</th>\n",
       "      <th>label1</th>\n",
       "      <th>label2</th>\n",
       "      <th>label3</th>\n",
       "      <th>label4</th>\n",
       "      <th>label5</th>\n",
       "      <th>label6</th>\n",
       "      <th>...</th>\n",
       "      <th>label40</th>\n",
       "      <th>label41</th>\n",
       "      <th>label42</th>\n",
       "      <th>label43</th>\n",
       "      <th>label44</th>\n",
       "      <th>label45</th>\n",
       "      <th>label46</th>\n",
       "      <th>label47</th>\n",
       "      <th>label48</th>\n",
       "      <th>label49</th>\n",
       "    </tr>\n",
       "  </thead>\n",
       "  <tbody>\n",
       "    <tr>\n",
       "      <th>1</th>\n",
       "      <td>iris</td>\n",
       "      <td>SSA</td>\n",
       "      <td>SSE</td>\n",
       "      <td>3</td>\n",
       "      <td>1</td>\n",
       "      <td>1</td>\n",
       "      <td>1</td>\n",
       "      <td>1</td>\n",
       "      <td>0</td>\n",
       "      <td>0</td>\n",
       "      <td>...</td>\n",
       "      <td>1</td>\n",
       "      <td>1</td>\n",
       "      <td>1</td>\n",
       "      <td>1</td>\n",
       "      <td>1</td>\n",
       "      <td>0</td>\n",
       "      <td>1</td>\n",
       "      <td>0</td>\n",
       "      <td>1</td>\n",
       "      <td>0</td>\n",
       "    </tr>\n",
       "    <tr>\n",
       "      <th>2</th>\n",
       "      <td>iris</td>\n",
       "      <td>SSA</td>\n",
       "      <td>SSE</td>\n",
       "      <td>3</td>\n",
       "      <td>2</td>\n",
       "      <td>2</td>\n",
       "      <td>2</td>\n",
       "      <td>2</td>\n",
       "      <td>2</td>\n",
       "      <td>2</td>\n",
       "      <td>...</td>\n",
       "      <td>2</td>\n",
       "      <td>2</td>\n",
       "      <td>1</td>\n",
       "      <td>2</td>\n",
       "      <td>2</td>\n",
       "      <td>2</td>\n",
       "      <td>2</td>\n",
       "      <td>2</td>\n",
       "      <td>2</td>\n",
       "      <td>2</td>\n",
       "    </tr>\n",
       "    <tr>\n",
       "      <th>3</th>\n",
       "      <td>iris</td>\n",
       "      <td>SSA</td>\n",
       "      <td>SSE</td>\n",
       "      <td>3</td>\n",
       "      <td>2</td>\n",
       "      <td>2</td>\n",
       "      <td>2</td>\n",
       "      <td>2</td>\n",
       "      <td>2</td>\n",
       "      <td>2</td>\n",
       "      <td>...</td>\n",
       "      <td>2</td>\n",
       "      <td>2</td>\n",
       "      <td>2</td>\n",
       "      <td>2</td>\n",
       "      <td>2</td>\n",
       "      <td>2</td>\n",
       "      <td>2</td>\n",
       "      <td>2</td>\n",
       "      <td>2</td>\n",
       "      <td>2</td>\n",
       "    </tr>\n",
       "    <tr>\n",
       "      <th>4</th>\n",
       "      <td>aggregation</td>\n",
       "      <td>SSA</td>\n",
       "      <td>SSE</td>\n",
       "      <td>7</td>\n",
       "      <td>4</td>\n",
       "      <td>4</td>\n",
       "      <td>4</td>\n",
       "      <td>4</td>\n",
       "      <td>4</td>\n",
       "      <td>4</td>\n",
       "      <td>...</td>\n",
       "      <td>4</td>\n",
       "      <td>4</td>\n",
       "      <td>4</td>\n",
       "      <td>4</td>\n",
       "      <td>4</td>\n",
       "      <td>4</td>\n",
       "      <td>4</td>\n",
       "      <td>4</td>\n",
       "      <td>4</td>\n",
       "      <td>4</td>\n",
       "    </tr>\n",
       "    <tr>\n",
       "      <th>5</th>\n",
       "      <td>aggregation</td>\n",
       "      <td>SSA</td>\n",
       "      <td>SSE</td>\n",
       "      <td>7</td>\n",
       "      <td>0</td>\n",
       "      <td>0</td>\n",
       "      <td>0</td>\n",
       "      <td>0</td>\n",
       "      <td>0</td>\n",
       "      <td>0</td>\n",
       "      <td>...</td>\n",
       "      <td>3</td>\n",
       "      <td>3</td>\n",
       "      <td>3</td>\n",
       "      <td>3</td>\n",
       "      <td>3</td>\n",
       "      <td>3</td>\n",
       "      <td>3</td>\n",
       "      <td>3</td>\n",
       "      <td>3</td>\n",
       "      <td>3</td>\n",
       "    </tr>\n",
       "    <tr>\n",
       "      <th>6</th>\n",
       "      <td>aggregation</td>\n",
       "      <td>SSA</td>\n",
       "      <td>SSE</td>\n",
       "      <td>7</td>\n",
       "      <td>3</td>\n",
       "      <td>3</td>\n",
       "      <td>3</td>\n",
       "      <td>3</td>\n",
       "      <td>3</td>\n",
       "      <td>3</td>\n",
       "      <td>...</td>\n",
       "      <td>3</td>\n",
       "      <td>3</td>\n",
       "      <td>3</td>\n",
       "      <td>3</td>\n",
       "      <td>3</td>\n",
       "      <td>3</td>\n",
       "      <td>3</td>\n",
       "      <td>3</td>\n",
       "      <td>3</td>\n",
       "      <td>3</td>\n",
       "    </tr>\n",
       "    <tr>\n",
       "      <th>7</th>\n",
       "      <td>iris</td>\n",
       "      <td>SSA</td>\n",
       "      <td>TWCV</td>\n",
       "      <td>3</td>\n",
       "      <td>0</td>\n",
       "      <td>0</td>\n",
       "      <td>0</td>\n",
       "      <td>0</td>\n",
       "      <td>0</td>\n",
       "      <td>0</td>\n",
       "      <td>...</td>\n",
       "      <td>0</td>\n",
       "      <td>0</td>\n",
       "      <td>0</td>\n",
       "      <td>0</td>\n",
       "      <td>0</td>\n",
       "      <td>0</td>\n",
       "      <td>0</td>\n",
       "      <td>0</td>\n",
       "      <td>0</td>\n",
       "      <td>0</td>\n",
       "    </tr>\n",
       "    <tr>\n",
       "      <th>8</th>\n",
       "      <td>iris</td>\n",
       "      <td>SSA</td>\n",
       "      <td>TWCV</td>\n",
       "      <td>3</td>\n",
       "      <td>0</td>\n",
       "      <td>0</td>\n",
       "      <td>0</td>\n",
       "      <td>0</td>\n",
       "      <td>0</td>\n",
       "      <td>0</td>\n",
       "      <td>...</td>\n",
       "      <td>0</td>\n",
       "      <td>0</td>\n",
       "      <td>0</td>\n",
       "      <td>0</td>\n",
       "      <td>0</td>\n",
       "      <td>0</td>\n",
       "      <td>0</td>\n",
       "      <td>0</td>\n",
       "      <td>0</td>\n",
       "      <td>0</td>\n",
       "    </tr>\n",
       "    <tr>\n",
       "      <th>9</th>\n",
       "      <td>iris</td>\n",
       "      <td>SSA</td>\n",
       "      <td>TWCV</td>\n",
       "      <td>3</td>\n",
       "      <td>0</td>\n",
       "      <td>0</td>\n",
       "      <td>0</td>\n",
       "      <td>0</td>\n",
       "      <td>0</td>\n",
       "      <td>0</td>\n",
       "      <td>...</td>\n",
       "      <td>0</td>\n",
       "      <td>0</td>\n",
       "      <td>0</td>\n",
       "      <td>0</td>\n",
       "      <td>0</td>\n",
       "      <td>0</td>\n",
       "      <td>0</td>\n",
       "      <td>0</td>\n",
       "      <td>0</td>\n",
       "      <td>0</td>\n",
       "    </tr>\n",
       "    <tr>\n",
       "      <th>10</th>\n",
       "      <td>aggregation</td>\n",
       "      <td>SSA</td>\n",
       "      <td>TWCV</td>\n",
       "      <td>7</td>\n",
       "      <td>5</td>\n",
       "      <td>5</td>\n",
       "      <td>5</td>\n",
       "      <td>5</td>\n",
       "      <td>5</td>\n",
       "      <td>5</td>\n",
       "      <td>...</td>\n",
       "      <td>5</td>\n",
       "      <td>5</td>\n",
       "      <td>5</td>\n",
       "      <td>5</td>\n",
       "      <td>5</td>\n",
       "      <td>5</td>\n",
       "      <td>5</td>\n",
       "      <td>5</td>\n",
       "      <td>5</td>\n",
       "      <td>5</td>\n",
       "    </tr>\n",
       "    <tr>\n",
       "      <th>11</th>\n",
       "      <td>aggregation</td>\n",
       "      <td>SSA</td>\n",
       "      <td>TWCV</td>\n",
       "      <td>7</td>\n",
       "      <td>5</td>\n",
       "      <td>5</td>\n",
       "      <td>5</td>\n",
       "      <td>5</td>\n",
       "      <td>5</td>\n",
       "      <td>5</td>\n",
       "      <td>...</td>\n",
       "      <td>5</td>\n",
       "      <td>5</td>\n",
       "      <td>5</td>\n",
       "      <td>5</td>\n",
       "      <td>5</td>\n",
       "      <td>5</td>\n",
       "      <td>5</td>\n",
       "      <td>5</td>\n",
       "      <td>5</td>\n",
       "      <td>5</td>\n",
       "    </tr>\n",
       "    <tr>\n",
       "      <th>12</th>\n",
       "      <td>aggregation</td>\n",
       "      <td>SSA</td>\n",
       "      <td>TWCV</td>\n",
       "      <td>7</td>\n",
       "      <td>6</td>\n",
       "      <td>6</td>\n",
       "      <td>6</td>\n",
       "      <td>6</td>\n",
       "      <td>6</td>\n",
       "      <td>6</td>\n",
       "      <td>...</td>\n",
       "      <td>6</td>\n",
       "      <td>6</td>\n",
       "      <td>6</td>\n",
       "      <td>6</td>\n",
       "      <td>6</td>\n",
       "      <td>6</td>\n",
       "      <td>6</td>\n",
       "      <td>6</td>\n",
       "      <td>6</td>\n",
       "      <td>6</td>\n",
       "    </tr>\n",
       "  </tbody>\n",
       "</table>\n",
       "<p>12 rows × 53 columns</p>\n",
       "</div>"
      ],
      "text/plain": [
       "        Dataset Optimizer objfname label0 label1 label2 label3 label4 label5  \\\n",
       "1          iris       SSA      SSE      3      1      1      1      1      0   \n",
       "2          iris       SSA      SSE      3      2      2      2      2      2   \n",
       "3          iris       SSA      SSE      3      2      2      2      2      2   \n",
       "4   aggregation       SSA      SSE      7      4      4      4      4      4   \n",
       "5   aggregation       SSA      SSE      7      0      0      0      0      0   \n",
       "6   aggregation       SSA      SSE      7      3      3      3      3      3   \n",
       "7          iris       SSA     TWCV      3      0      0      0      0      0   \n",
       "8          iris       SSA     TWCV      3      0      0      0      0      0   \n",
       "9          iris       SSA     TWCV      3      0      0      0      0      0   \n",
       "10  aggregation       SSA     TWCV      7      5      5      5      5      5   \n",
       "11  aggregation       SSA     TWCV      7      5      5      5      5      5   \n",
       "12  aggregation       SSA     TWCV      7      6      6      6      6      6   \n",
       "\n",
       "   label6  ... label40 label41 label42 label43 label44 label45 label46  \\\n",
       "1       0  ...       1       1       1       1       1       0       1   \n",
       "2       2  ...       2       2       1       2       2       2       2   \n",
       "3       2  ...       2       2       2       2       2       2       2   \n",
       "4       4  ...       4       4       4       4       4       4       4   \n",
       "5       0  ...       3       3       3       3       3       3       3   \n",
       "6       3  ...       3       3       3       3       3       3       3   \n",
       "7       0  ...       0       0       0       0       0       0       0   \n",
       "8       0  ...       0       0       0       0       0       0       0   \n",
       "9       0  ...       0       0       0       0       0       0       0   \n",
       "10      5  ...       5       5       5       5       5       5       5   \n",
       "11      5  ...       5       5       5       5       5       5       5   \n",
       "12      6  ...       6       6       6       6       6       6       6   \n",
       "\n",
       "   label47 label48 label49  \n",
       "1        0       1       0  \n",
       "2        2       2       2  \n",
       "3        2       2       2  \n",
       "4        4       4       4  \n",
       "5        3       3       3  \n",
       "6        3       3       3  \n",
       "7        0       0       0  \n",
       "8        0       0       0  \n",
       "9        0       0       0  \n",
       "10       5       5       5  \n",
       "11       5       5       5  \n",
       "12       6       6       6  \n",
       "\n",
       "[12 rows x 53 columns]"
      ]
     },
     "execution_count": 18,
     "metadata": {},
     "output_type": "execute_result"
    }
   ],
   "source": [
    "#Show the labels results file\n",
    "filename = foldername +'/experiment_details_Labels.csv' \n",
    "header_names=['Dataset','Optimizer','objfname'] + ['label' + str(i) for i in range(50)]\n",
    "df = pd.read_csv(filename,names=header_names,dtype=object)[1:]\n",
    "df.head(12)"
   ]
  },
  {
   "cell_type": "markdown",
   "metadata": {
    "colab_type": "text",
    "id": "7gw9qJb7vedV"
   },
   "source": [
    "<h4>Convergence Curve Plot</h4>"
   ]
  },
  {
   "cell_type": "code",
   "execution_count": 19,
   "metadata": {
    "colab": {
     "base_uri": "https://localhost:8080/",
     "height": 49,
     "referenced_widgets": [
      "d59fd7060ca044e490ed2a5142860fcc",
      "e4f86a4dabb14badb67fc3d069275d9b",
      "5ce5b185a3d34787bf6f929ee1e04b11"
     ]
    },
    "colab_type": "code",
    "id": "14hzxM7spueJ",
    "outputId": "5882cdc6-4aef-4df4-d816-896911aabc9d"
   },
   "outputs": [
    {
     "data": {
      "application/vnd.jupyter.widget-view+json": {
       "model_id": "092c5bd4fb2e4f959789fed66fcfa1ba",
       "version_major": 2,
       "version_minor": 0
      },
      "text/plain": [
       "Dropdown(description='Select plot:', options=(), value=None)"
      ]
     },
     "metadata": {},
     "output_type": "display_data"
    }
   ],
   "source": [
    "#Select convergence curve to show\n",
    "filenames = [filename for filename in os.listdir(foldername) if filename.startswith('convergence')]\n",
    "\n",
    "drop_plot_convergence = widgets.Dropdown(options=filenames, description='Select plot:')\n",
    "drop_plot_convergence"
   ]
  },
  {
   "cell_type": "code",
   "execution_count": 20,
   "metadata": {
    "colab": {
     "base_uri": "https://localhost:8080/",
     "height": 279
    },
    "colab_type": "code",
    "id": "ZMstknfRafMj",
    "outputId": "29902e06-dff6-4276-a970-38a6d4a7efb5"
   },
   "outputs": [
    {
     "ename": "TypeError",
     "evalue": "can only concatenate str (not \"NoneType\") to str",
     "output_type": "error",
     "traceback": [
      "\u001b[0;31m---------------------------------------------------------------------------\u001b[0m",
      "\u001b[0;31mTypeError\u001b[0m                                 Traceback (most recent call last)",
      "\u001b[0;32m/tmp/ipykernel_14160/747763218.py\u001b[0m in \u001b[0;36m<module>\u001b[0;34m\u001b[0m\n\u001b[1;32m      1\u001b[0m \u001b[0;31m#Show selected convergence curve\u001b[0m\u001b[0;34m\u001b[0m\u001b[0;34m\u001b[0m\u001b[0m\n\u001b[0;32m----> 2\u001b[0;31m \u001b[0mImage\u001b[0m\u001b[0;34m(\u001b[0m\u001b[0mfoldername\u001b[0m \u001b[0;34m+\u001b[0m\u001b[0;34m'/'\u001b[0m \u001b[0;34m+\u001b[0m \u001b[0mdrop_plot_convergence\u001b[0m\u001b[0;34m.\u001b[0m\u001b[0mvalue\u001b[0m\u001b[0;34m)\u001b[0m\u001b[0;34m\u001b[0m\u001b[0;34m\u001b[0m\u001b[0m\n\u001b[0m",
      "\u001b[0;31mTypeError\u001b[0m: can only concatenate str (not \"NoneType\") to str"
     ]
    }
   ],
   "source": [
    "#Show selected convergence curve\n",
    "Image(foldername +'/' + drop_plot_convergence.value)"
   ]
  },
  {
   "cell_type": "markdown",
   "metadata": {
    "colab_type": "text",
    "id": "HYEl6buevixm"
   },
   "source": [
    "<h4>Box Plot</h4>"
   ]
  },
  {
   "cell_type": "code",
   "execution_count": 22,
   "metadata": {
    "colab": {
     "base_uri": "https://localhost:8080/",
     "height": 49,
     "referenced_widgets": [
      "dd43be7115de4880b055fe811d0380dd",
      "8888d6278e87471a9c2633d8b449a858",
      "35b72bf5dad245f4a07507abfa838611"
     ]
    },
    "colab_type": "code",
    "id": "rWF1AKS5bPvV",
    "outputId": "9071f7b7-8810-450a-fb65-8250fc20c56f"
   },
   "outputs": [
    {
     "data": {
      "application/vnd.jupyter.widget-view+json": {
       "model_id": "73b1d988027c4bb484cdbbae0a70b8d5",
       "version_major": 2,
       "version_minor": 0
      },
      "text/plain": [
       "Dropdown(description='Select plot:', options=(), value=None)"
      ]
     },
     "metadata": {},
     "output_type": "display_data"
    }
   ],
   "source": [
    "#Select boxplot to show\n",
    "filenames = [filename for filename in os.listdir(foldername) if filename.startswith('boxplot')]\n",
    "\n",
    "drop_boxplot = widgets.Dropdown(options=filenames, description='Select plot:')\n",
    "drop_boxplot"
   ]
  },
  {
   "cell_type": "code",
   "execution_count": 23,
   "metadata": {
    "colab": {
     "base_uri": "https://localhost:8080/",
     "height": 265
    },
    "colab_type": "code",
    "id": "paBsvZRktfTh",
    "outputId": "0a8cce31-b7e5-4ce8-ca05-e7b2cf92295d"
   },
   "outputs": [
    {
     "ename": "TypeError",
     "evalue": "can only concatenate str (not \"NoneType\") to str",
     "output_type": "error",
     "traceback": [
      "\u001b[0;31m---------------------------------------------------------------------------\u001b[0m",
      "\u001b[0;31mTypeError\u001b[0m                                 Traceback (most recent call last)",
      "\u001b[0;32m/tmp/ipykernel_14160/3776230636.py\u001b[0m in \u001b[0;36m<module>\u001b[0;34m\u001b[0m\n\u001b[1;32m      1\u001b[0m \u001b[0;31m#Show selected boxplot\u001b[0m\u001b[0;34m\u001b[0m\u001b[0;34m\u001b[0m\u001b[0m\n\u001b[0;32m----> 2\u001b[0;31m \u001b[0mImage\u001b[0m\u001b[0;34m(\u001b[0m\u001b[0mfoldername\u001b[0m \u001b[0;34m+\u001b[0m\u001b[0;34m'/'\u001b[0m \u001b[0;34m+\u001b[0m \u001b[0mdrop_boxplot\u001b[0m\u001b[0;34m.\u001b[0m\u001b[0mvalue\u001b[0m\u001b[0;34m)\u001b[0m\u001b[0;34m\u001b[0m\u001b[0;34m\u001b[0m\u001b[0m\n\u001b[0m",
      "\u001b[0;31mTypeError\u001b[0m: can only concatenate str (not \"NoneType\") to str"
     ]
    }
   ],
   "source": [
    "#Show selected boxplot\n",
    "Image(foldername +'/' + drop_boxplot.value)"
   ]
  },
  {
   "cell_type": "code",
   "execution_count": null,
   "metadata": {},
   "outputs": [],
   "source": []
  },
  {
   "cell_type": "code",
   "execution_count": null,
   "metadata": {},
   "outputs": [],
   "source": []
  },
  {
   "cell_type": "markdown",
   "metadata": {
    "colab_type": "text",
    "id": "eahYmfKKJ62g"
   },
   "source": [
    "<h2>Citation Request</h2>"
   ]
  },
  {
   "cell_type": "markdown",
   "metadata": {
    "colab_type": "text",
    "id": "PkabkcHFKFIK"
   },
   "source": [
    "Please include these citations if you plan to use this Framework:\n",
    "\n",
    "\n",
    "*   Qaddoura, Raneem, Hossam Faris, Ibrahim Aljarah, and Pedro A. Castillo. \"EvoCluster: An Open-Source Nature-Inspired Optimization Clustering Framework in Python.\" In International Conference on the Applications of Evolutionary Computation (Part of EvoStar), pp. 20-36. Springer, Cham, 2020.\n",
    "*   Ruba Abu Khurma, Ibrahim Aljarah, Ahmad Sharieh, and Seyedali Mirjalili. Evolopy-fs: An open-source nature-inspired optimization framework in python for feature selection. In Evolutionary Machine Learning Techniques, pages 131–173. Springer, 2020\n",
    "*   Hossam Faris, Ibrahim Aljarah, Sayedali Mirjalili, Pedro Castillo, and J.J Merelo. \"EvoloPy: An Open-source Nature-inspired Optimization Framework in Python\". In Proceedings of the 8th International Joint Conference on Computational Intelligence - Volume 3: ECTA,ISBN 978-989-758-201-1, pages 171-177.\n",
    "*   Raneem Qaddoura, Hossam Faris, and Ibrahim Aljarah*. An efficient clustering algorithm based on the k-nearest neighbors with an indexing ratio. International Journal of Machine Learning and Cybernetics, pages 1–40, 2019.\n",
    "*   Ibrahim Aljarah, Majdi Mafarja, Ali Asghar Heidari, Hossam Faris, and Seyedali Mirjalili. Clustering analysis using a novel locality-informed grey wolf-inspired clustering approach. Knowledge and Information Systems, pages 1–33, 2019.\n",
    "*   Sarah Shukri, Hossam Faris, Ibrahim Aljarah*, Seyedali Mirjalili, and Ajith Abraham. Evolutionary static and dynamic clustering algorithms based on multi-verse optimizer. Engineering Applications of Artificial Intelligence, 72:54–66, 2018.\n",
    "*   Ibrahim Aljarah, Majdi Mafarja, Ali Asghar Heidari, Hossam Faris, and Seyedali Mirjalili. Multiverse optimizer: Theory, literature review, and application in a data clustering. In Nature-Inspired Optimizers: Theories, Literature Reviews and Applications, pages 123–141. Springer International Publishing, Cham, 2020\n",
    "\n",
    "\n",
    "\n",
    "\n",
    "\n",
    "\n"
   ]
  }
 ],
 "metadata": {
  "colab": {
   "collapsed_sections": [],
   "include_colab_link": true,
   "name": "EvoCluster.ipynb",
   "provenance": []
  },
  "kernelspec": {
   "display_name": "Python 3 (ipykernel)",
   "language": "python",
   "name": "python3"
  },
  "language_info": {
   "codemirror_mode": {
    "name": "ipython",
    "version": 3
   },
   "file_extension": ".py",
   "mimetype": "text/x-python",
   "name": "python",
   "nbconvert_exporter": "python",
   "pygments_lexer": "ipython3",
   "version": "3.9.7"
  },
  "widgets": {
   "application/vnd.jupyter.widget-state+json": {
    "075a2480310a4a96990fcda7d0ffd922": {
     "model_module": "@jupyter-widgets/controls",
     "model_name": "DescriptionStyleModel",
     "state": {
      "_model_module": "@jupyter-widgets/controls",
      "_model_module_version": "1.5.0",
      "_model_name": "DescriptionStyleModel",
      "_view_count": null,
      "_view_module": "@jupyter-widgets/base",
      "_view_module_version": "1.2.0",
      "_view_name": "StyleView",
      "description_width": ""
     }
    },
    "35b72bf5dad245f4a07507abfa838611": {
     "model_module": "@jupyter-widgets/base",
     "model_name": "LayoutModel",
     "state": {
      "_model_module": "@jupyter-widgets/base",
      "_model_module_version": "1.2.0",
      "_model_name": "LayoutModel",
      "_view_count": null,
      "_view_module": "@jupyter-widgets/base",
      "_view_module_version": "1.2.0",
      "_view_name": "LayoutView",
      "align_content": null,
      "align_items": null,
      "align_self": null,
      "border": null,
      "bottom": null,
      "display": null,
      "flex": null,
      "flex_flow": null,
      "grid_area": null,
      "grid_auto_columns": null,
      "grid_auto_flow": null,
      "grid_auto_rows": null,
      "grid_column": null,
      "grid_gap": null,
      "grid_row": null,
      "grid_template_areas": null,
      "grid_template_columns": null,
      "grid_template_rows": null,
      "height": null,
      "justify_content": null,
      "justify_items": null,
      "left": null,
      "margin": null,
      "max_height": null,
      "max_width": null,
      "min_height": null,
      "min_width": null,
      "object_fit": null,
      "object_position": null,
      "order": null,
      "overflow": null,
      "overflow_x": null,
      "overflow_y": null,
      "padding": null,
      "right": null,
      "top": null,
      "visibility": null,
      "width": null
     }
    },
    "5ce5b185a3d34787bf6f929ee1e04b11": {
     "model_module": "@jupyter-widgets/base",
     "model_name": "LayoutModel",
     "state": {
      "_model_module": "@jupyter-widgets/base",
      "_model_module_version": "1.2.0",
      "_model_name": "LayoutModel",
      "_view_count": null,
      "_view_module": "@jupyter-widgets/base",
      "_view_module_version": "1.2.0",
      "_view_name": "LayoutView",
      "align_content": null,
      "align_items": null,
      "align_self": null,
      "border": null,
      "bottom": null,
      "display": null,
      "flex": null,
      "flex_flow": null,
      "grid_area": null,
      "grid_auto_columns": null,
      "grid_auto_flow": null,
      "grid_auto_rows": null,
      "grid_column": null,
      "grid_gap": null,
      "grid_row": null,
      "grid_template_areas": null,
      "grid_template_columns": null,
      "grid_template_rows": null,
      "height": null,
      "justify_content": null,
      "justify_items": null,
      "left": null,
      "margin": null,
      "max_height": null,
      "max_width": null,
      "min_height": null,
      "min_width": null,
      "object_fit": null,
      "object_position": null,
      "order": null,
      "overflow": null,
      "overflow_x": null,
      "overflow_y": null,
      "padding": null,
      "right": null,
      "top": null,
      "visibility": null,
      "width": null
     }
    },
    "72766899b95b448989904b6b77be5e06": {
     "model_module": "@jupyter-widgets/controls",
     "model_name": "DropdownModel",
     "state": {
      "_dom_classes": [],
      "_model_module": "@jupyter-widgets/controls",
      "_model_module_version": "1.5.0",
      "_model_name": "DropdownModel",
      "_options_labels": [
       "2020-05-01-14-58-52"
      ],
      "_view_count": null,
      "_view_module": "@jupyter-widgets/controls",
      "_view_module_version": "1.5.0",
      "_view_name": "DropdownView",
      "description": "Select folder:",
      "description_tooltip": null,
      "disabled": false,
      "index": 0,
      "layout": "IPY_MODEL_aa1078a902d1415688fa5054f3389e65",
      "style": "IPY_MODEL_075a2480310a4a96990fcda7d0ffd922"
     }
    },
    "8888d6278e87471a9c2633d8b449a858": {
     "model_module": "@jupyter-widgets/controls",
     "model_name": "DescriptionStyleModel",
     "state": {
      "_model_module": "@jupyter-widgets/controls",
      "_model_module_version": "1.5.0",
      "_model_name": "DescriptionStyleModel",
      "_view_count": null,
      "_view_module": "@jupyter-widgets/base",
      "_view_module_version": "1.2.0",
      "_view_name": "StyleView",
      "description_width": ""
     }
    },
    "aa1078a902d1415688fa5054f3389e65": {
     "model_module": "@jupyter-widgets/base",
     "model_name": "LayoutModel",
     "state": {
      "_model_module": "@jupyter-widgets/base",
      "_model_module_version": "1.2.0",
      "_model_name": "LayoutModel",
      "_view_count": null,
      "_view_module": "@jupyter-widgets/base",
      "_view_module_version": "1.2.0",
      "_view_name": "LayoutView",
      "align_content": null,
      "align_items": null,
      "align_self": null,
      "border": null,
      "bottom": null,
      "display": null,
      "flex": null,
      "flex_flow": null,
      "grid_area": null,
      "grid_auto_columns": null,
      "grid_auto_flow": null,
      "grid_auto_rows": null,
      "grid_column": null,
      "grid_gap": null,
      "grid_row": null,
      "grid_template_areas": null,
      "grid_template_columns": null,
      "grid_template_rows": null,
      "height": null,
      "justify_content": null,
      "justify_items": null,
      "left": null,
      "margin": null,
      "max_height": null,
      "max_width": null,
      "min_height": null,
      "min_width": null,
      "object_fit": null,
      "object_position": null,
      "order": null,
      "overflow": null,
      "overflow_x": null,
      "overflow_y": null,
      "padding": null,
      "right": null,
      "top": null,
      "visibility": null,
      "width": null
     }
    },
    "d59fd7060ca044e490ed2a5142860fcc": {
     "model_module": "@jupyter-widgets/controls",
     "model_name": "DropdownModel",
     "state": {
      "_dom_classes": [],
      "_model_module": "@jupyter-widgets/controls",
      "_model_module_version": "1.5.0",
      "_model_name": "DropdownModel",
      "_options_labels": [
       "convergence-iris-TWCV.png",
       "convergence-iris-SSE.png",
       "convergence-aggregation-SSE.png",
       "convergence-aggregation-TWCV.png"
      ],
      "_view_count": null,
      "_view_module": "@jupyter-widgets/controls",
      "_view_module_version": "1.5.0",
      "_view_name": "DropdownView",
      "description": "Select plot:",
      "description_tooltip": null,
      "disabled": false,
      "index": 2,
      "layout": "IPY_MODEL_5ce5b185a3d34787bf6f929ee1e04b11",
      "style": "IPY_MODEL_e4f86a4dabb14badb67fc3d069275d9b"
     }
    },
    "dd43be7115de4880b055fe811d0380dd": {
     "model_module": "@jupyter-widgets/controls",
     "model_name": "DropdownModel",
     "state": {
      "_dom_classes": [],
      "_model_module": "@jupyter-widgets/controls",
      "_model_module_version": "1.5.0",
      "_model_name": "DropdownModel",
      "_options_labels": [
       "boxplot-iris-SSE-Accuracy.png",
       "boxplot-aggregation-SSE-ARI.png",
       "boxplot-aggregation-SSE-STDev.png",
       "boxplot-iris-TWCV-Purity.png",
       "boxplot-aggregation-TWCV-DB.png",
       "boxplot-aggregation-SSE-SC.png",
       "boxplot-iris-SSE-VM.png",
       "boxplot-iris-SSE-CS.png",
       "boxplot-iris-SSE-HS.png",
       "boxplot-aggregation-TWCV-ARI.png",
       "boxplot-iris-TWCV-VM.png",
       "boxplot-iris-TWCV-TWCV.png",
       "boxplot-aggregation-SSE-VM.png",
       "boxplot-aggregation-SSE-SSE.png",
       "boxplot-aggregation-SSE-DI.png",
       "boxplot-iris-TWCV-SC.png",
       "boxplot-iris-TWCV-DB.png",
       "boxplot-aggregation-SSE-AMI.png",
       "boxplot-iris-TWCV-HS.png",
       "boxplot-aggregation-TWCV-DI.png",
       "boxplot-iris-TWCV-DI.png",
       "boxplot-iris-SSE-ARI.png",
       "boxplot-iris-TWCV-Fmeasure.png",
       "boxplot-aggregation-TWCV-STDev.png",
       "boxplot-iris-SSE-Purity.png",
       "boxplot-aggregation-SSE-HS.png",
       "boxplot-iris-SSE-DI.png",
       "boxplot-iris-SSE-SC.png",
       "boxplot-aggregation-TWCV-Entropy.png",
       "boxplot-iris-TWCV-Accuracy.png",
       "boxplot-aggregation-SSE-TWCV.png",
       "boxplot-aggregation-TWCV-VM.png",
       "boxplot-iris-SSE-Entropy.png",
       "boxplot-iris-TWCV-Entropy.png",
       "boxplot-iris-SSE-STDev.png",
       "boxplot-iris-TWCV-STDev.png",
       "boxplot-aggregation-SSE-Entropy.png",
       "boxplot-iris-TWCV-AMI.png",
       "boxplot-aggregation-TWCV-AMI.png",
       "boxplot-iris-TWCV-CS.png",
       "boxplot-aggregation-TWCV-Purity.png",
       "boxplot-iris-SSE-AMI.png",
       "boxplot-aggregation-SSE-Purity.png",
       "boxplot-aggregation-SSE-Fmeasure.png",
       "boxplot-aggregation-TWCV-Fmeasure.png",
       "boxplot-aggregation-TWCV-HS.png",
       "boxplot-iris-SSE-TWCV.png",
       "boxplot-iris-SSE-SSE.png",
       "boxplot-aggregation-TWCV-Accuracy.png",
       "boxplot-iris-SSE-Fmeasure.png",
       "boxplot-iris-TWCV-SSE.png",
       "boxplot-aggregation-TWCV-SC.png",
       "boxplot-aggregation-TWCV-SSE.png",
       "boxplot-aggregation-SSE-Accuracy.png",
       "boxplot-aggregation-TWCV-CS.png",
       "boxplot-iris-SSE-DB.png",
       "boxplot-aggregation-SSE-CS.png",
       "boxplot-iris-TWCV-ARI.png",
       "boxplot-aggregation-SSE-DB.png",
       "boxplot-aggregation-TWCV-TWCV.png"
      ],
      "_view_count": null,
      "_view_module": "@jupyter-widgets/controls",
      "_view_module_version": "1.5.0",
      "_view_name": "DropdownView",
      "description": "Select plot:",
      "description_tooltip": null,
      "disabled": false,
      "index": 13,
      "layout": "IPY_MODEL_35b72bf5dad245f4a07507abfa838611",
      "style": "IPY_MODEL_8888d6278e87471a9c2633d8b449a858"
     }
    },
    "e4f86a4dabb14badb67fc3d069275d9b": {
     "model_module": "@jupyter-widgets/controls",
     "model_name": "DescriptionStyleModel",
     "state": {
      "_model_module": "@jupyter-widgets/controls",
      "_model_module_version": "1.5.0",
      "_model_name": "DescriptionStyleModel",
      "_view_count": null,
      "_view_module": "@jupyter-widgets/base",
      "_view_module_version": "1.2.0",
      "_view_name": "StyleView",
      "description_width": ""
     }
    }
   }
  }
 },
 "nbformat": 4,
 "nbformat_minor": 1
}
